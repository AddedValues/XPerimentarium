{
 "cells": [
  {
   "cell_type": "markdown",
   "metadata": {},
   "source": [
    "# INTRODUCTION\n",
    "\n",
    "In this article, I will explain and implement the well known Traveling Salesman Problem aka TSP with special focus on subtour elimination methods. We will use python to implement the  MILP formulation.The dataset contains the coordinates of various cities of India. The aim is to find a shortest path that cover all cities. We will cover the  following things in the article\n",
    "\n",
    "\n",
    "1. **Input the data and visualize the problem**<br/><br/>\n",
    "2. **Model TSP as MILP formulation w/o Subtour contraints**<br/><br/>\n",
    "3. **Implement Subtour Elimination Method 1: MTZ's Approach**<br/><br/>\n",
    "\n",
    "4. **Implement Subtour Elimination Method 2: DFJ's Approach**<br/><br/>\n",
    "5. **Compare  MTZ's formulation and DFJ's formulation**<br/><br/>\n",
    "6. **Conclusion**<br/><br/>\n",
    "\n"
   ]
  },
  {
   "cell_type": "markdown",
   "metadata": {},
   "source": [
    "# 1 Input the data and  problem visualization"
   ]
  },
  {
   "cell_type": "markdown",
   "metadata": {},
   "source": [
    "The csv file *\"tsp_city_data.csv\"* contains the names of cities in India with thier latitute and longitute information. The first city *\"Delhi\"* is assumed to be starting point of trip (depot). The data input to TSP model is the distance matrix which stores the distance (or travel time or cost) from each city (location) to every other city. Thus, for a traveling salesman problem for *N* cities (location), the distance matrix is of size *N x N*.\n",
    "The varible * no_of_locs* in the code is used to define the first n no. of cities we want to include in our TSP problem data. The value is set 20 for now.  The pyhton *pandas* library is used to read csv file and distance matrix \"*dis_mat*\"."
   ]
  },
  {
   "cell_type": "code",
   "execution_count": 1,
   "metadata": {
    "collapsed": true
   },
   "outputs": [],
   "source": [
    "#import libraries\n",
    "%matplotlib inline\n",
    "import pulp\n",
    "import pandas as pd\n",
    "from scipy.spatial import distance_matrix\n",
    "from matplotlib import pyplot as plt\n",
    "import time\n",
    "import copy"
   ]
  },
  {
   "cell_type": "code",
   "execution_count": 2,
   "metadata": {
    "collapsed": true
   },
   "outputs": [],
   "source": [
    "# This function takes locations as input and plot a scatter plot\n",
    "def plot_fig(loc,heading=\"plot\"):\n",
    "\n",
    "    plt.figure(figsize=(10,10))\n",
    "    for i,row in loc.iterrows():\n",
    "        if i==0:\n",
    "            plt.scatter(row[\"x\"],row[\"y\"],c='r')\n",
    "            plt.text(row[\"x\"]+0.2, row[\"y\"]+0.2, 'DELHI (depot) ')\n",
    "        else:\n",
    "            plt.scatter(row[\"x\"], row[\"y\"], c='black')\n",
    "            plt.text(row[\"x\"] + 0.2, row[\"y\"] + 0.2,full_data.loc[i]['CITy'] )\n",
    "        plt.ylim(6,36)\n",
    "        plt.xlim(66,96)\n",
    "        plt.title(heading)\n",
    "\n",
    "# This function takes route plan as input and return the ordered routes and subtours, if present\n",
    "def get_plan(r0):\n",
    "    r=copy.copy(r0)\n",
    "    route = []\n",
    "    while len(r) != 0:\n",
    "        plan = [r[0]]\n",
    "        del (r[0])\n",
    "        l = 0\n",
    "        while len(plan) > l:\n",
    "            l = len(plan)\n",
    "            for i, j in enumerate(r):\n",
    "                if plan[-1][1] == j[0]:\n",
    "                    plan.append(j)\n",
    "                    del (r[i])\n",
    "        route.append(plan)\n",
    "    return(route)\n"
   ]
  },
  {
   "cell_type": "code",
   "execution_count": null,
   "metadata": {},
   "outputs": [],
   "source": [
    "# set no of cities\n",
    "no_of_locs = 6\n",
    "data = pd.read_csv(\"tsp_city_data.csv\")\n",
    "full_data = data.iloc[0:no_of_locs,:]\n",
    "d = full_data[['x','y']]\n",
    "dis_mat = pd.DataFrame(distance_matrix(d.values,d.values), index=d.index, columns=d.index)\n",
    "print(\"----------data--------------\")\n",
    "print(full_data)\n",
    "print(\"-----------------------------\")\n",
    "plot_fig(d,heading=\"Problem Visualization\")\n",
    "   \n",
    "plt.show()\n"
   ]
  },
  {
   "cell_type": "markdown",
   "metadata": {},
   "source": [
    "# 2 Model TSP in  MILP  without Subtour elimination constraints\n",
    "\n",
    "TSP problem can be modeled as Mixed Integer Linear Program. The LP Model is exlained as follows<br><br>\n",
    "**Data** <br><br>\n",
    "N= Number of location including depot (starting point) <br>\n",
    "$C_{i,j}$ = Edge cost from node i to node j  where i,j= [1...N]<br><br>\n",
    "**Decision Variable**<br> <br>\n",
    "$x_{i,j}$ = 1 if solution has direct path from node i to j, otherwise 0 <br>\n",
    "\n",
    "\n",
    "The LP model is formilated as follows<br>\n",
    "\n",
    "### MIN          $C_{i,j}$  $x_{i,j} \\;\\;\\;\\;\\;\\;\\;\\;\\;\\;\\;\\;\\;\\;\\;\\;\\;\\;(1)$\n",
    "s.t <br><br>\n",
    "$\\sum_{j=1}^{N} x_{i,j} = 1 \\;\\;\\;\\;\\;\\;\\;\\;\\;  i ={1...N} \\;\\;\\;\\;\\;\\;\\;\\;\\; (2)$<br> <br>\n",
    "$\\sum_{i=1}^{N} x_{i,j} = 1  \\;\\;\\;\\;\\;\\;\\;\\;\\; j ={1...N} \\;\\;\\;\\;\\;\\;\\;\\;\\; (3)$<br> <br>\n",
    "$ x_{i,i} = 0  \\;\\;\\;\\;\\;\\;\\;\\;\\; i ={1...N} \\;\\;\\;\\;\\;\\;\\;\\;\\; (4)$<br> <br>\n",
    "\n",
    "The objective (1) minimize the cost of tour. Constraints (2) and (3) ensures that for each node, there is only one outflow and inflow edge respectively. Thus, ach node is visited only once. Constraint (4) restrict outflow to one's own node.\n",
    "\n",
    "\n",
    "\n",
    "In this article, python PuLP library is used for implementing MILP model in python. PuLP is an LP modeler written in Python. PuLP can call variety of LP solvers like CBC, CPLEX, GUROBI, SCIP to solve linear problems.It can be installed from the link https://pypi.org/project/PuLP/. The CBC solver is preinstalled in the PuLP library while one  has to install other solvers like gurobi, cplex  separately to use in PuLP. In this implementation CBC is used as LP solver.\n",
    "<br/><br/>\n",
    "\n"
   ]
  },
  {
   "cell_type": "code",
   "execution_count": null,
   "metadata": {},
   "outputs": [],
   "source": [
    "model = pulp.LpProblem('tsp',pulp.LpMinimize)\n",
    "\n",
    "#define variable\n",
    "x = pulp.LpVariable.dicts(\"x\",((i,j) for i in range(no_of_locs) for j in range(no_of_locs)), cat='Binary')\n",
    "\n",
    "#set objective\n",
    "model+=pulp.lpSum(dis_mat[i][j]* x[i,j] for i in range(no_of_locs) for j in range(no_of_locs))\n",
    "\n",
    "# st constraints\n",
    "for i in range(no_of_locs):\n",
    "    model += x[i,i] == 0\n",
    "    model += pulp.lpSum(x[i,j] for j in range(no_of_locs)) == 1\n",
    "    model += pulp.lpSum(x[j,i] for j in range(no_of_locs)) == 1\n",
    "\n",
    "status = model.solve()\n",
    "#status=model.solver()\n",
    "print(\"-----------------\")\n",
    "print(status, pulp.LpStatus[status], pulp.value(model.objective))\n",
    "route = [(i,j) for i in range(no_of_locs) for j in range(no_of_locs) if pulp.value(x[i,j]) == 1]\n",
    "\n",
    "print(get_plan(route))\n",
    "print(route)"
   ]
  },
  {
   "cell_type": "code",
   "execution_count": null,
   "metadata": {},
   "outputs": [],
   "source": [
    "\n",
    "plot_fig(d,heading=\"solution Visualization\")\n",
    "arrowprops = dict(arrowstyle='->', connectionstyle='arc3', edgecolor='blue')\n",
    "for i, j in route:\n",
    "    plt.annotate('', xy=[d.iloc[j]['x'], d.iloc[j]['y']], xytext=[d.iloc[i]['x'], d.iloc[i]['y']], arrowprops=arrowprops)"
   ]
  },
  {
   "cell_type": "markdown",
   "metadata": {},
   "source": [
    "![image info](./not_expected.jpg)"
   ]
  },
  {
   "cell_type": "markdown",
   "metadata": {},
   "source": [
    "The optimal solution given by the LP model has subtours i.e <br>\n",
    "1. **Tour 1 :** Delhi > Nagpur > Rajkot\n",
    "2. **Tour 2 :** Kolkata > Dispur > Agartala\n",
    "\n",
    "The solution given by the model has 2 tours but what required is the single tour that starts with depot (Delhi) and visit all locations one by one and ends at Delhi. To solve this problem and to get desired single tour, the subtour elimination constraints need to be added in the LP Model. <br> A subtour is a disjoint tour that does not include all the cities. The subtour elimination constraints are added to the LP model to eliminate the subtours and get the desired single tour. \n",
    "\n",
    "There are 2 well known formulations, DSF and MTZ (named after their authors). This article cover both the ideas and the implementation in python.\n"
   ]
  },
  {
   "cell_type": "markdown",
   "metadata": {},
   "source": [
    "# 3. MTZ Method for subtour elimination\n",
    "This formulation was proposed by Miller, Tucker, Zemlin. To eliminate subtours, decision variables representing times at which a location is visited is added. Variable for all locations except depot node are added.\n",
    "$t_{i}$ = time at which location i is visited , i =[2,...N]\n",
    "Finally what is required the constraint <br><br>\n",
    "$ t_{j}$ > $t_{i} \\;\\;\\;\\;\\;\\;\\;\\; if \\;\\;x_{i,j} =1$ \n",
    "which can be formulated as LP constraints as follows <br>\n",
    "\n",
    "$t_{j} \\geq t_{i} - B(1-x_{i,j})  \\;\\;\\;\\;\\;\\;\\;\\;\\;\\;\\;\\;\\; (5)\\;\\;\\;\\;\\;$\n",
    "for some large value of B\n",
    "\n",
    "### How does constraint (5) remove subtours ?\n",
    "**Spoiler alert**: It does not remove subtours. It just makes the subtours infeasible by enforcing a monotonous timing of endpoints of route segments. <br>\n",
    "Lets takes an previous example and take the subtour Kolkata (k) > Dispur(d) > Agartala(a) <br>\n",
    "so, $x_{k,d}=1$, $x_{d,a}=1$, $x_{a,k}=1$\n",
    "Now as per constraint (5)\n",
    "\n",
    "$t_{d} > t_{k}\\;\\;\\;\\;\\;\\;\\;\\;\\;\\;\\;\\;\\; (6)$, <br>\n",
    "$t_{a} >  t_{d}\\;\\;\\;\\;\\;\\;\\;\\;\\;\\;\\;\\;\\; (7)$, <br>\n",
    "$t_{k} > t_{a}\\;\\;\\;\\;\\;\\;\\;\\;\\;\\;\\;\\;\\; (8)$ <br>\n",
    "from (6) and (7) $\\;\\;\\;t_{a} > t_{k}$ but as per constraint (8) $\\;\\;\\;\\;t_{k} > t_{a}$  which is not possible.<br>\n",
    "**So adding constraint (5) will eliminate the sobtour.**\n",
    "\n",
    "The complete Lp model is formulated as follows <br><br>\n",
    "**Data** <br><br>\n",
    "N= Number of location including depot (starting point) <br>\n",
    "$C_{i,j}$ = Edge cost from node i to node j  where i,j= [1...N]<br><br>\n",
    "**Decision Variable**<br> <br>\n",
    "$x_{i,j}$ = 1 if solution has direct path from node i to j, otherwise 0 <br>\n",
    "$t_{i}$ = time at which location i is visited , i =[2,...N]\n",
    "\n",
    "\n",
    "The LP model is formulated as follows<br>\n",
    "\n",
    "### MIN          $C_{i,j}$  $x_{i,j} \\;\\;\\;\\;\\;\\;\\;\\;\\;\\;\\;\\;\\;\\;\\;\\;\\;\\;(9)$\n",
    "s.t <br><br>\n",
    "$\\sum_{j=1}^{N} x_{i,j} = 1 \\;\\;\\;\\;\\;\\;\\;\\;\\;  i ={1...N} \\;\\;\\;\\;\\;\\;\\;\\;\\; (10)$<br> <br>\n",
    "$\\sum_{i=1}^{N} x_{i,j} = 1  \\;\\;\\;\\;\\;\\;\\;\\;\\; j ={1...N} \\;\\;\\;\\;\\;\\;\\;\\;\\; (11)$<br> <br>\n",
    "$ x_{i,i} = 0  \\;\\;\\;\\;\\;\\;\\;\\;\\; i ={1...N} \\;\\;\\;\\;\\;\\;\\;\\;\\; (12)$<br> <br>\n",
    "$t_{j} \\geq t_{i} - B(1-x_{i,j}) \\;\\;\\;\\;\\;i,j=[2,....N] \\;\\;\\;\\;\\;\\;\\;\\;\\;\\;\\;\\;\\; (13)$ <br><br>\n",
    "$x_{i,j}=\\{0,1\\}$ , $\\;\\;\\; t_{i}=[1,...N-1]\\;\\;\\;\\;\\;\\;\\;\\;\\;(14) $\n",
    "\n",
    "\n",
    "\n",
    "\n",
    "\n",
    "\n",
    "\n",
    "\n",
    "\n",
    "\n"
   ]
  },
  {
   "cell_type": "code",
   "execution_count": null,
   "metadata": {
    "scrolled": true
   },
   "outputs": [],
   "source": [
    "start_t=time.time()\n",
    "model=pulp.LpProblem('tsp',pulp.LpMinimize)\n",
    "\n",
    "#define variable\n",
    "x = pulp.LpVariable.dicts(\"x\",((i,j) for i in range(no_of_locs) for j in range(no_of_locs)), cat='Binary')\n",
    "t = pulp.LpVariable.dicts(\"t\", (i for i in range(no_of_locs)), lowBound=1, upBound=no_of_locs, cat='Integer')\n",
    "\n",
    "#set objective\n",
    "model += pulp.lpSum(dis_mat[i][j]* x[i,j] for i in range(no_of_locs) for j in range(no_of_locs))\n",
    "\n",
    "# st constraints\n",
    "for i in range(no_of_locs):\n",
    "    model += x[i,i]==0\n",
    "    model += pulp.lpSum(x[i,j] for j in range(no_of_locs))==1\n",
    "    model += pulp.lpSum(x[j,i] for j in range(no_of_locs)) == 1\n",
    "\n",
    "#eliminate subtours\n",
    "for i in range(no_of_locs):\n",
    "    for j in range(no_of_locs):\n",
    "        if i!=j and (i!=0 and j!=0):\n",
    "            model += t[j]>=t[i]+1 - (2*no_of_locs)*(1-x[i,j])\n",
    "\n",
    "status=model.solve()\n",
    "#status=model.solver()\n",
    "print(\"-----------------\")\n",
    "print(status,pulp.LpStatus[status],pulp.value(model.objective))\n",
    "route = [(i,j) for i in range(no_of_locs) for j in range(no_of_locs) if pulp.value(x[i,j])==1]\n",
    "print(route)\n",
    "plot_fig(loc=d, heading=\"solution Visualization\")\n",
    "arrowprops = dict(arrowstyle='->', connectionstyle='arc3', edgecolor='blue')\n",
    "for i, j in route:\n",
    "    plt.annotate('', xy=[d.iloc[j]['x'], d.iloc[j]['y']], xytext=[d.iloc[i]['x'], d.iloc[i]['y']], arrowprops=arrowprops)\n",
    "\n",
    "print(\"time taken by MTZ formulation = \", time.time()-start_t)"
   ]
  },
  {
   "cell_type": "markdown",
   "metadata": {},
   "source": [
    "![image info](./1.jpeg)"
   ]
  },
  {
   "cell_type": "markdown",
   "metadata": {},
   "source": [
    "![image_info](./wait.jpeg)"
   ]
  },
  {
   "cell_type": "markdown",
   "metadata": {},
   "source": [
    "# 4. DFJ Method for subtour elimination\n",
    "This formulation was proposed by  Dantzig, Fulkerson,Jhonson.To eliminate subtours, for every set **S** of cities , add a constraint saying that the tour leaves **S** at least once. <br><br>\n",
    "$\\sum_{i\\in S} \\sum_{j\\notin S}\\;\\; x_{i,j}>=1\\;\\;\\;\\;\\;\\;\\;\\; S \\subseteq \\{1,2,....n\\} ,\\;\\;\\; 1 \\leq |S| \\geq N-1   \\;\\;\\;\\;\\;\\;(15)$<br><br>\n",
    "\n",
    "## How does this constraint eliminate subtours?\n",
    "Lets takes an same example and take a set $S_{i}$= {kolkata, Dispur, Agartala} and the rest of the cities be represented by $s_{i}^{'}$={ Delhi(del),Rajkot(r), Nagpur(n)}<br>\n",
    "Now as per constraint (15), the new constraint added is as follows <br>\n",
    "$ \\sum_{i \\in s_{i}^{'}} x_{kolkata,i} \\sum_{i \\in s_{i}^{'}} x_{Dispur,i}\\sum_{i \\in s_{i}^{'}} x_{Agartala,i} \\geq 1\\;\\;\\;\\;\\;\\;\\;\\;\\;\\; (16)$ <br>\n",
    "Since there is no edge going to any other node is this set (due to subtour), this equation is not satisfied for the the set $S_{i}$= {{kolkata, Dispur, Agartala}. So, by adding constraint (15), this solution becomes infeasible and all subtours will be eliminated.\n",
    "\n",
    "## Modification in DFJ Method \n",
    "\n",
    "For *N* cities,the nunber of posssible sets add up to $ 2^n$ i.e the number of constraints grow exponetially. So, Instead of adding constraints for all the possible sets, only some constraints are added. Given a solution to LP model(without having subtour elimination constraints) with subtours, one can quickly find the subset for which subtour DFS subtour constraint is eliminated. In the example above, one needs to add only 2 constraints and not $2^5$ constraints.<br><br>\n",
    "\n",
    "$ \\sum_{i \\in s_{i}^{'}} x_{kolkata,i} \\sum_{i \\in s_{i}^{'}} x_{Dispur,i}\\sum_{i \\in s_{i}^{'}} x_{Agartala,i} \\geq 1\\;\\;\\;\\;\\;\\;\\;\\;\\;\\; (17)$ <br><br>\n",
    "$ \\sum_{i \\in s_{i}^{'}} x_{Delhi,i} \\sum_{i \\in s_{i}^{'}} x_{Rajkot,i}\\sum_{i \\in s_{i}^{'}} x_{Nagpur,i} \\geq 1\\;\\;\\;\\;\\;\\;\\;\\;\\;\\; (18)$ <br><br>\n",
    "These constraints can also be written as<br><br>\n",
    "$ x_{kolkata,Dispur}+x_{Dispur,Agartala} +x_{agartala,kolkata} \\leq 2 \\;\\;\\;\\;\\;\\;\\;(19)$<br>\n",
    "$ x_{Dispur,kolkata}+x_{kolkata,agartala}+x_{Agartala,Dispur}  \\leq 2 \\;\\;\\;\\;\\;\\;\\;(20)$<br>\n",
    "$ x_{Delhi,Rajkot}+x_{Rajkot,Nagpur} +x_{Nagpur,Delhi} \\leq 2 \\;\\;\\;\\;\\;\\;\\;(21)$<br>\n",
    "$ x_{Rajkot,Delhi}+x_{Delhi,Nagpur} +x_{Nagpur,Rajkot} \\leq 2 \\;\\;\\;\\;\\;\\;\\;(22)$<br>\n",
    "\n",
    "\n",
    "\n",
    "\n",
    "\n",
    "So, the higer level algorithm is as follows<br>\n",
    "### Higher level Algorithm for DFS\n",
    "step 1. Solve TSP problem with LP formulation w/o Subtour Constraints<br><br>\n",
    "step 2. If no subtour present in the current solution, goto step 6<br><br>\n",
    "step 3. Add subtour constraint **only** for the subtours present in current solution.<br><br>\n",
    "step 4. Solve TSP problem with newly added constraint.<br><br>\n",
    "step 5. goto step 2<br><br>\n",
    "step 6. Return the final TSP solution<br><br>\n",
    "\n"
   ]
  },
  {
   "cell_type": "code",
   "execution_count": null,
   "metadata": {},
   "outputs": [],
   "source": [
    "start = time.time()\n",
    "model = pulp.LpProblem('tsp',pulp.LpMinimize)\n",
    "\n",
    "#define variable\n",
    "x = pulp.LpVariable.dicts(\"x\",((i,j) for i in range(no_of_locs) for j in range(no_of_locs)), cat='Binary')\n",
    "\n",
    "#set objective\n",
    "model += pulp.lpSum(dis_mat[i][j]* x[i,j] for i in range(no_of_locs) for j in range(no_of_locs))\n",
    "\n",
    "# st constraints\n",
    "for i in range(no_of_locs):\n",
    "    model += x[i,i] == 0\n",
    "    model += pulp.lpSum(x[i,j] for j in range(no_of_locs)) == 1\n",
    "    model += pulp.lpSum(x[j,i] for j in range(no_of_locs)) == 1\n",
    "    \n",
    "status=model.solve()\n",
    "\n",
    "route = [(i,j) for i in range(no_of_locs) for j in range(no_of_locs) if pulp.value(x[i,j])==1]\n",
    "route_plan = get_plan(route)\n",
    "subtour = []\n",
    "while len(route_plan) != 1:\n",
    "    for i in range(len(route_plan)):\n",
    "        print(f'Subtour {i}: ', route_plan[i])\n",
    "        model += pulp.lpSum(x[route_plan[i][j][0], route_plan[i][j][1]] \\\n",
    "                            for j in range(len(route_plan[i]))) <= len(route_plan[i])-1\n",
    "\n",
    "    status = model.solve()\n",
    "    route = [(i,j) for i in range(no_of_locs) for j in range(no_of_locs) if pulp.value(x[i, j]) == 1]\n",
    "    route_plan = get_plan(route)\n",
    "    subtour.append(len(route_plan))\n",
    "\n",
    "print(\"-----------------\")\n",
    "print(status,pulp.LpStatus[status], pulp.value(model.objective))\n",
    "print(route_plan)\n",
    "print(\"no. of times LP model is solved = \",len(subtour))\n",
    "print(\"subtour log (no. of subtours in each solution))\",subtour)\n",
    "print(\"Time taken by DFS formulation = \", time.time()-start)\n",
    "plot_fig(d, heading=\"solution Visualization\")\n",
    "arrowprops = dict(arrowstyle='->', connectionstyle='arc3', edgecolor='blue')\n",
    "for i, j in route_plan[0]:\n",
    "    plt.annotate('', xy=[d.iloc[j]['x'], d.iloc[j]['y']], xytext=[d.iloc[i]['x'], d.iloc[i]['y']], arrowprops=arrowprops)\n",
    "\n",
    "plt.show()\n",
    "\n",
    "print(\"total time = \",time.time()-start)"
   ]
  },
  {
   "cell_type": "markdown",
   "metadata": {},
   "source": [
    "# Compare MTZ's Formulation vs DFJ's formulation\n",
    "Since two approaches for subtour elimination have been discussed in the this articel, its time to compare the two.\n",
    "MTZ's approach introduces $n^2$ constraints  (one for each pair (i,j) where i,j=[1..n]) while DFJ's apporach introduce subtour constraints for all possible sets of locations i.e $2^n$ for n locations. Thus, MTZ's apporach adds polynomial number of constraints while DFJ's approach introduce exponential number of constraints.<br> <br>\n",
    "\n",
    "In terms of decision variables, MTZ approach introduces *n* new decision variables ($t_{i}$ for i =[1..n]).ON the other hand, DFS introduces no new decision variable. MTZ's approach has to be solved only once to get an optimal solution While DFJ is generally implemented as modified version and it is solved iterativey ( i.e LP model has to be solved multiple times with new subtour constraints added every time).<br><br>\n",
    "\n",
    "There is no clear winner among the two and for some problems DFJ gives solution faster than MTZ  and for some problems MTZ is faster. But When DHJ has an efficient branch and bound approach due to which it become more efficient than MTZ. Also, MTZ’s formulation is weakeri.e the feasible region has the same integer points, but includes more fractional points.\n",
    "\n",
    "\n",
    "\n",
    "\n"
   ]
  },
  {
   "cell_type": "markdown",
   "metadata": {},
   "source": [
    "# Conclusion\n",
    "\n",
    "In this article, ILP formulation of TSP is explained with special focus on subtour elimination approaches. TSP problem is a special case of Vehicle Routing Problem (VRP) with no. of vehicle equal to 1. But, subtour elimination is a core issue in VRP as well which is solved by using same techniques. "
   ]
  }
 ],
 "metadata": {
  "kernelspec": {
   "display_name": "mbl124",
   "language": "python",
   "name": "python3"
  },
  "language_info": {
   "codemirror_mode": {
    "name": "ipython",
    "version": 3
   },
   "file_extension": ".py",
   "mimetype": "text/x-python",
   "name": "python",
   "nbconvert_exporter": "python",
   "pygments_lexer": "ipython3",
   "version": "3.12.4"
  }
 },
 "nbformat": 4,
 "nbformat_minor": 2
}
